{
 "cells": [
  {
   "cell_type": "code",
   "execution_count": 1,
   "metadata": {},
   "outputs": [
    {
     "name": "stdout",
     "output_type": "stream",
     "text": [
      "Requirement already satisfied: scikit-learn-extra in c:\\users\\yoga\\anaconda3\\lib\\site-packages (0.2.0)\n",
      "Requirement already satisfied: scikit-learn>=0.23.0 in c:\\users\\yoga\\anaconda3\\lib\\site-packages (from scikit-learn-extra) (0.23.1)\n",
      "Requirement already satisfied: numpy>=1.13.3 in c:\\users\\yoga\\anaconda3\\lib\\site-packages (from scikit-learn-extra) (1.18.5)\n",
      "Requirement already satisfied: scipy>=0.19.1 in c:\\users\\yoga\\anaconda3\\lib\\site-packages (from scikit-learn-extra) (1.5.0)\n",
      "Requirement already satisfied: threadpoolctl>=2.0.0 in c:\\users\\yoga\\anaconda3\\lib\\site-packages (from scikit-learn>=0.23.0->scikit-learn-extra) (2.1.0)\n",
      "Requirement already satisfied: joblib>=0.11 in c:\\users\\yoga\\anaconda3\\lib\\site-packages (from scikit-learn>=0.23.0->scikit-learn-extra) (0.16.0)\n"
     ]
    }
   ],
   "source": [
    "!pip install scikit-learn-extra\n",
    "import numpy as np\n",
    "import pandas as pd\n",
    "import scipy.cluster.hierarchy as sch\n",
    "from sklearn.cluster import AgglomerativeClustering\n",
    "import matplotlib.pyplot as plt"
   ]
  },
  {
   "cell_type": "code",
   "execution_count": 2,
   "metadata": {},
   "outputs": [],
   "source": [
    "heart_data= pd.read_csv('heart.csv')"
   ]
  },
  {
   "cell_type": "code",
   "execution_count": 3,
   "metadata": {},
   "outputs": [
    {
     "data": {
      "text/plain": [
       "<bound method NDFrame.head of      age  sex  cp  trestbps  chol  fbs  restecg  thalach  exang  oldpeak  \\\n",
       "0     63    1   3       145   233    1        0      150      0      2.3   \n",
       "1     37    1   2       130   250    0        1      187      0      3.5   \n",
       "2     41    0   1       130   204    0        0      172      0      1.4   \n",
       "3     56    1   1       120   236    0        1      178      0      0.8   \n",
       "4     57    0   0       120   354    0        1      163      1      0.6   \n",
       "..   ...  ...  ..       ...   ...  ...      ...      ...    ...      ...   \n",
       "298   57    0   0       140   241    0        1      123      1      0.2   \n",
       "299   45    1   3       110   264    0        1      132      0      1.2   \n",
       "300   68    1   0       144   193    1        1      141      0      3.4   \n",
       "301   57    1   0       130   131    0        1      115      1      1.2   \n",
       "302   57    0   1       130   236    0        0      174      0      0.0   \n",
       "\n",
       "     slope  ca  thal  target  \n",
       "0        0   0     1       1  \n",
       "1        0   0     2       1  \n",
       "2        2   0     2       1  \n",
       "3        2   0     2       1  \n",
       "4        2   0     2       1  \n",
       "..     ...  ..   ...     ...  \n",
       "298      1   0     3       0  \n",
       "299      1   0     3       0  \n",
       "300      1   2     3       0  \n",
       "301      1   1     3       0  \n",
       "302      1   1     2       0  \n",
       "\n",
       "[303 rows x 14 columns]>"
      ]
     },
     "execution_count": 3,
     "metadata": {},
     "output_type": "execute_result"
    }
   ],
   "source": [
    "heart_data.head"
   ]
  },
  {
   "cell_type": "code",
   "execution_count": 4,
   "metadata": {},
   "outputs": [],
   "source": [
    "data = heart_data.iloc[:, 3:5].values"
   ]
  },
  {
   "cell_type": "code",
   "execution_count": 5,
   "metadata": {},
   "outputs": [
    {
     "data": {
      "text/plain": [
       "array([[145, 233],\n",
       "       [130, 250],\n",
       "       [130, 204],\n",
       "       [120, 236],\n",
       "       [120, 354],\n",
       "       [140, 192],\n",
       "       [140, 294],\n",
       "       [120, 263],\n",
       "       [172, 199],\n",
       "       [150, 168],\n",
       "       [140, 239],\n",
       "       [130, 275],\n",
       "       [130, 266],\n",
       "       [110, 211],\n",
       "       [150, 283],\n",
       "       [120, 219],\n",
       "       [120, 340],\n",
       "       [150, 226],\n",
       "       [150, 247],\n",
       "       [140, 239],\n",
       "       [135, 234],\n",
       "       [130, 233],\n",
       "       [140, 226],\n",
       "       [150, 243],\n",
       "       [140, 199],\n",
       "       [160, 302],\n",
       "       [150, 212],\n",
       "       [110, 175],\n",
       "       [140, 417],\n",
       "       [130, 197],\n",
       "       [105, 198],\n",
       "       [120, 177],\n",
       "       [130, 219],\n",
       "       [125, 273],\n",
       "       [125, 213],\n",
       "       [142, 177],\n",
       "       [135, 304],\n",
       "       [150, 232],\n",
       "       [155, 269],\n",
       "       [160, 360],\n",
       "       [140, 308],\n",
       "       [130, 245],\n",
       "       [104, 208],\n",
       "       [130, 264],\n",
       "       [140, 321],\n",
       "       [120, 325],\n",
       "       [140, 235],\n",
       "       [138, 257],\n",
       "       [128, 216],\n",
       "       [138, 234]], dtype=int64)"
      ]
     },
     "execution_count": 5,
     "metadata": {},
     "output_type": "execute_result"
    }
   ],
   "source": [
    "data1= data[0:50,:]\n",
    "data1"
   ]
  },
  {
   "cell_type": "code",
   "execution_count": 6,
   "metadata": {},
   "outputs": [
    {
     "data": {
      "image/png": "[encoded data removed]",
      "text/plain": [
       "<Figure size 432x288 with 1 Axes>"
      ]
     },
     "metadata": {
      "needs_background": "light"
     },
     "output_type": "display_data"
    }
   ],
   "source": [
    "dendrogram= sch.dendrogram(sch.linkage(data1,'single'))\n",
    "plt.title('dendrogram')\n",
    "plt.xlabel('X Values')\n",
    "plt.ylabel('Distances')\n",
    "plt.show()"
   ]
  },
  {
   "cell_type": "code",
   "execution_count": 7,
   "metadata": {},
   "outputs": [
    {
     "data": {
      "text/plain": [
       "array([0, 0, 0, 0, 0, 0, 0, 0, 0, 0, 0, 0, 0, 0, 0, 0, 0, 0, 0, 0, 0, 0,\n",
       "       0, 0, 0, 0, 0, 0, 1, 0, 0, 0, 0, 0, 0, 0, 0, 0, 0, 0, 0, 0, 0, 0,\n",
       "       0, 0, 0, 0, 0, 0], dtype=int64)"
      ]
     },
     "execution_count": 7,
     "metadata": {},
     "output_type": "execute_result"
    }
   ],
   "source": [
    "cluster = AgglomerativeClustering(n_clusters=2,affinity='euclidean', linkage='single')\n",
    "cluster.fit_predict(data1)"
   ]
  },
  {
   "cell_type": "code",
   "execution_count": 8,
   "metadata": {},
   "outputs": [
    {
     "data": {
      "text/plain": [
       "Text(0, 0.5, 'serum cholestoral')"
      ]
     },
     "execution_count": 8,
     "metadata": {},
     "output_type": "execute_result"
    },
    {
     "data": {
      "image/png": "[encoded data removed]",
      "text/plain": [
       "<Figure size 432x288 with 1 Axes>"
      ]
     },
     "metadata": {
      "needs_background": "light"
     },
     "output_type": "display_data"
    }
   ],
   "source": [
    "plt.scatter(data1[:,0], data1[:,1], c=cluster.labels_, cmap='rainbow')\n",
    "plt.title('Heart Disease')\n",
    "plt.xlabel('resting blood pressure')\n",
    "plt.ylabel('serum cholestoral')\n"
   ]
  },
  {
   "cell_type": "code",
   "execution_count": 9,
   "metadata": {},
   "outputs": [
    {
     "data": {
      "text/plain": [
       "array([1, 1, 2, 1, 0, 2, 0, 1, 2, 2, 1, 0, 1, 2, 0, 2, 0, 1, 1, 1, 1, 1,\n",
       "       1, 1, 2, 0, 2, 2, 0, 2, 2, 2, 2, 1, 2, 2, 0, 1, 1, 0, 0, 1, 2, 1,\n",
       "       0, 0, 1, 1, 2, 1], dtype=int64)"
      ]
     },
     "execution_count": 9,
     "metadata": {},
     "output_type": "execute_result"
    }
   ],
   "source": [
    "#create object from KMedoids class\n",
    "from sklearn_extra.cluster import KMedoids\n",
    "cluster = KMedoids(n_clusters=3, metric=\"manhattan\",init=\"random\") #random_state=33\n",
    "\n",
    "cluster.fit_predict(data1)\n"
   ]
  },
  {
   "cell_type": "code",
   "execution_count": 10,
   "metadata": {},
   "outputs": [
    {
     "data": {
      "text/plain": [
       "Text(0, 0.5, 'serum cholestoral')"
      ]
     },
     "execution_count": 10,
     "metadata": {},
     "output_type": "execute_result"
    },
    {
     "data": {
      "image/png": "[encoded data removed]",
      "text/plain": [
       "<Figure size 432x288 with 1 Axes>"
      ]
     },
     "metadata": {
      "needs_background": "light"
     },
     "output_type": "display_data"
    }
   ],
   "source": [
    "#scattering data\n",
    "plt.scatter(data1[:,0], data1[:,1], c=cluster.labels_, cmap='rainbow')\n",
    "plt.title('Heart Disease')\n",
    "plt.xlabel('resting blood pressure')\n",
    "plt.ylabel('serum cholestoral')"
   ]
  },
  {
   "cell_type": "code",
   "execution_count": null,
   "metadata": {},
   "outputs": [],
   "source": []
  },
  {
   "cell_type": "code",
   "execution_count": null,
   "metadata": {},
   "outputs": [],
   "source": []
  },
  {
   "cell_type": "code",
   "execution_count": null,
   "metadata": {},
   "outputs": [],
   "source": []
  }
 ],
 "metadata": {
  "kernelspec": {
   "display_name": "Python 3",
   "language": "python",
   "name": "python3"
  },
  "language_info": {
   "codemirror_mode": {
    "name": "ipython",
    "version": 3
   },
   "file_extension": ".py",
   "mimetype": "text/x-python",
   "name": "python",
   "nbconvert_exporter": "python",
   "pygments_lexer": "ipython3",
   "version": "3.8.3"
  }
 },
 "nbformat": 4,
 "nbformat_minor": 4
}
